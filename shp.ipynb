{
    "metadata": {
        "kernelspec": {
            "language": "python", 
            "display_name": "Python 3.5 (Experimental) with Spark 2.1", 
            "name": "python3-spark21"
        }, 
        "language_info": {
            "version": "3.5.2", 
            "nbconvert_exporter": "python", 
            "codemirror_mode": {
                "version": 3, 
                "name": "ipython"
            }, 
            "mimetype": "text/x-python", 
            "name": "python", 
            "pygments_lexer": "ipython3", 
            "file_extension": ".py"
        }
    }, 
    "nbformat_minor": 1, 
    "cells": [
        {
            "execution_count": null, 
            "outputs": [], 
            "cell_type": "code", 
            "metadata": {}, 
            "source": "# !pip install pyshp --user"
        }, 
        {
            "execution_count": 1, 
            "outputs": [
                {
                    "output_type": "stream", 
                    "name": "stdout", 
                    "text": "Pixiedust database opened successfully\n"
                }, 
                {
                    "output_type": "display_data", 
                    "metadata": {}, 
                    "data": {
                        "text/html": "\n        <div style=\"margin:10px\">\n            <a href=\"https://github.com/ibm-watson-data-lab/pixiedust\" target=\"_new\">\n                <img src=\"https://github.com/ibm-watson-data-lab/pixiedust/raw/master/docs/_static/pd_icon32.png\" style=\"float:left;margin-right:10px\"/>\n            </a>\n            <span>Pixiedust version 1.1.2</span>\n        </div>\n        ", 
                        "text/plain": "<IPython.core.display.HTML object>"
                    }
                }
            ], 
            "cell_type": "code", 
            "metadata": {}, 
            "source": "from io import StringIO, BytesIO\nfrom zipfile import ZipFile\nimport requests\nimport json\nimport shapefile as pyshp\nimport pixiedust\nimport numpy as np\nfrom PIL import Image\nfrom pyspark.sql.functions import udf\nimport matplotlib.pyplot as plt\n%matplotlib inline"
        }, 
        {
            "execution_count": 2, 
            "outputs": [], 
            "cell_type": "code", 
            "metadata": {}, 
            "source": "credentials = {\n  'auth_url':'https://identity.open.softlayer.com',\n  'project':'object_storage_6a1cd4de_5fda_4aed_9daa_77a16acbd0eb',\n  'project_id':'90a4103b7b014ee9b3a296b606adfd2c',\n  'region':'dallas',\n  'user_id':'1bd2322937af414c89f34c0e4401966a',\n  'domain_id':'41ca524ef22c4741810dc798e071edb9',\n  'domain_name':'1446795',\n  'username':'member_c49620b6c86f8fba9f62c285d31813a28ac52d11',\n  'password':\"\"\"qR^35ffqgfOxvx_5\"\"\",\n  'container':'Codebreakers',\n}\n\n# Fun\u00e7\u00e3o de leitura de arquivos do Object Storage\ndef get_file(filename, mode = 't'):\n    url1 = ''.join(['https://identity.open.softlayer.com', '/v3/auth/tokens'])\n    data = {'auth': {'identity': {'methods': ['password'],\n            'password': {'user': {'name': credentials['username'],'domain': {'id': credentials['domain_id']},\n            'password': credentials['password']}}}}}    \n    headers1 = {'Content-Type': 'application/json'}\n    resp1 = requests.post(url=url1, data=json.dumps(data), headers=headers1)\n    resp1_body = resp1.json()\n    for e1 in resp1_body['token']['catalog']:\n        if(e1['type']=='object-store'):\n            for e2 in e1['endpoints']:\n                        if(e2['interface']=='public'and e2['region']=='dallas'):\n                            url2 = ''.join([e2['url'],'/', credentials['container'], '/', filename])\n    s_subject_token = resp1.headers['x-subject-token']\n    headers2 = {'X-Auth-Token': s_subject_token, 'accept': 'application/json'}\n    resp2 = requests.get(url=url2, headers=headers2)\n    if mode == 'b':\n        return BytesIO(resp2.content)\n    elif mode == 't':\n        return StringIO(resp2.text)\n    else:\n        raise ValueError('Mode nao reconhecido')\n\n# Your data file was loaded into a StringIO object and you can process the data.\n# Please read the documentation of pandas to learn more about your possibilities to load your data.\n# pandas documentation: http://pandas.pydata.org/pandas-docs/stable/io.html\n# data_1 = get_object_storage_file_with_credentials_6a1cd4de5fda4aed9daa77a16acbd0eb('Codebreakers', 'shapesZonaAzul.zip')"
        }, 
        {
            "execution_count": 3, 
            "outputs": [], 
            "cell_type": "code", 
            "metadata": {}, 
            "source": "# Leitura dos arquivos\nzf = ZipFile(get_file('shapesZonaAzul.zip', 'b'))\narqs_shp = ['ZonaAzulFaces', 'ZonaAzulVagas', 'ZonaAzulVagasNaoRotativas']\narquivos = []\nfor arq_shp in arqs_shp:\n    shp = BytesIO(zf.open(arq_shp + '.shp').read())\n    dbf = BytesIO(zf.open(arq_shp + '.dbf').read())\n    shx = BytesIO(zf.open(arq_shp + '.shx').read())\n    arquivos.append(pyshp.Reader(shp=shp, dbf=dbf, shx=shx))\nfaces, vagas, vagas_n_rotativas = arquivos\n# field_names = [field[0] for field in sf.fields[1:]]\n# sr = sf.shapeRecords()"
        }, 
        {
            "execution_count": null, 
            "outputs": [], 
            "cell_type": "code", 
            "metadata": {}, 
            "source": "print(vagas.shapeRecords()[0].shape.points[0])\nprint(vagas.fields)"
        }, 
        {
            "execution_count": 4, 
            "outputs": [], 
            "cell_type": "code", 
            "metadata": {}, 
            "source": "rows = []\nfor sr in vagas.iterShapeRecords():\n    rows.append(pyspark.sql.Row(lat=sr.shape.points[0][1], lon=sr.shape.points[0][0], vagas=sr.record[3]))\ndf = sqlContext.createDataFrame(rows)"
        }, 
        {
            "execution_count": null, 
            "outputs": [], 
            "cell_type": "code", 
            "metadata": {
                "pixiedust": {
                    "displayParams": {
                        "keyFields": "lat,lon", 
                        "coloropacity": "50", 
                        "rowCount": "500", 
                        "handlerId": "mapView", 
                        "valueFields": "vagas", 
                        "mapboxtoken": "pk.eyJ1IjoibWFwYm94IiwiYSI6ImNpejY4M29iazA2Z2gycXA4N2pmbDZmangifQ.-g_vE53SD2WrJ6tFX7QHmA", 
                        "colorrampname": "Yellow to Blue", 
                        "kind": "simple"
                    }
                }, 
                "scrolled": false
            }, 
            "source": "display(df)"
        }, 
        {
            "execution_count": 5, 
            "outputs": [
                {
                    "output_type": "execute_result", 
                    "metadata": {}, 
                    "data": {
                        "text/plain": "{'min(lat)': -23.668001009999998, 'min(lon)': -46.71286308}"
                    }, 
                    "execution_count": 5
                }
            ], 
            "cell_type": "code", 
            "metadata": {}, 
            "source": "df.agg({\"lat\": \"min\", \"lon\": \"min\"}).collect()[0].asDict()"
        }, 
        {
            "execution_count": 6, 
            "outputs": [
                {
                    "output_type": "execute_result", 
                    "metadata": {}, 
                    "data": {
                        "text/plain": "{'max(lat)': -23.473188989999997, 'max(lon)': -46.411904879999994}"
                    }, 
                    "execution_count": 6
                }
            ], 
            "cell_type": "code", 
            "metadata": {}, 
            "source": "df.agg({\"lat\": \"max\", \"lon\": \"max\"}).collect()[0].asDict()"
        }, 
        {
            "execution_count": 7, 
            "outputs": [], 
            "cell_type": "code", 
            "metadata": {}, 
            "source": "r = df.agg({\"lat\": \"min\", \"lon\": \"min\"}).collect()[0]\nlat_min, lon_min = r['min(lat)'], r['min(lon)']\n\nr = df.agg({\"lat\": \"max\", \"lon\": \"max\"}).collect()[0]\nlat_max, lon_max = r['max(lat)'], r['max(lon)']"
        }, 
        {
            "execution_count": null, 
            "outputs": [], 
            "cell_type": "code", 
            "metadata": {}, 
            "source": "print(lat_min, lat_max)\nprint(np.floor(lat_min), np.ceil(lat_max))"
        }, 
        {
            "execution_count": null, 
            "outputs": [], 
            "cell_type": "code", 
            "metadata": {}, 
            "source": "print(lon_min, lon_max)\nprint(np.floor(lon_min), np.ceil(lon_max))"
        }, 
        {
            "execution_count": 23, 
            "outputs": [], 
            "cell_type": "code", 
            "metadata": {
                "collapsed": true
            }, 
            "source": "lat_min_min, lat_max_max = np.floor(lat_min), np.ceil(lat_max)\nlon_min_min, lon_max_max = np.floor(lon_min), np.ceil(lon_max)"
        }, 
        {
            "execution_count": 27, 
            "outputs": [], 
            "cell_type": "code", 
            "metadata": {
                "collapsed": true
            }, 
            "source": "lat_min_min_broad = sc.broadcast(lat_min_min)\n# lat_max_max_broad = sc.broadcast(lat_max_max)\nlon_min_min_broad = sc.broadcast(lon_min_min)\n# lon_max_max_broad = sc.broadcast(lon_max_max)"
        }, 
        {
            "execution_count": 8, 
            "outputs": [], 
            "cell_type": "code", 
            "metadata": {
                "collapsed": true
            }, 
            "source": "nx, ny = (1000, 1000)"
        }, 
        {
            "execution_count": 9, 
            "outputs": [], 
            "cell_type": "code", 
            "metadata": {}, 
            "source": "x = np.linspace(lat_min_min, lat_max_max, nx)\ny = np.linspace(lon_min_min, lon_max_max, ny)"
        }, 
        {
            "execution_count": 10, 
            "outputs": [], 
            "cell_type": "code", 
            "metadata": {
                "collapsed": true
            }, 
            "source": "xx, yy = np.meshgrid(x, y)"
        }, 
        {
            "execution_count": 11, 
            "outputs": [], 
            "cell_type": "code", 
            "metadata": {}, 
            "source": "xx_broad = sc.broadcast(xx)\nyy_broad = sc.broadcast(yy)"
        }, 
        {
            "execution_count": 12, 
            "outputs": [], 
            "cell_type": "code", 
            "metadata": {
                "collapsed": true
            }, 
            "source": "m = np.zeros((nx, ny))"
        }, 
        {
            "metadata": {}, 
            "cell_type": "markdown", 
            "source": "for i in range(nx - 1):\n    for j in range(ny - 1):\n        x_bot, y_bot = xx[i, j], yy[i, j]\n        x_up, y_up = xx[i + 1, j + 1], yy[i + 1, j + 1]\n\n#         print(x_bot, y_bot)\n#         print(x_up, y_up)\n#         print(lon, lat)\n#         print()\n\n        for sr in vagas.iterShapeRecords():\n            lat = sr.shape.points[0][1]\n            lon = sr.shape.points[0][0]\n            qtd_vagas = sr.record[3]\n\n#             print(x_bot, lon, x_up)\n#             print(y_bot, lat, y_up)\n#             print()\n\n            if (x_bot <= lon < x_up) and (y_bot <= lat < y_up):\n#                 print('oi')\n                m[i, j] += 1\n#         break\n        "
        }, 
        {
            "execution_count": 77, 
            "outputs": [
                {
                    "output_type": "execute_result", 
                    "metadata": {}, 
                    "data": {
                        "text/plain": "(9.0, 0.0)"
                    }, 
                    "execution_count": 77
                }
            ], 
            "cell_type": "code", 
            "metadata": {}, 
            "source": "m.max(), m.min()"
        }, 
        {
            "execution_count": 85, 
            "outputs": [
                {
                    "output_type": "display_data", 
                    "metadata": {}, 
                    "data": {
                        "text/plain": "<matplotlib.figure.Figure at 0x7faf2f114a20>", 
                        "image/png": "[encoded data removed]"
                    }
                }
            ], 
            "cell_type": "code", 
            "metadata": {}, 
            "source": "plt.rcParams['figure.figsize'] = (10, 10)\nplt.imshow(Image.fromarray(2550000*m/m.max())).set_cmap('binary')"
        }, 
        {
            "execution_count": null, 
            "outputs": [], 
            "cell_type": "code", 
            "metadata": {
                "collapsed": true
            }, 
            "source": "plt.imshow(Image.fromarray(50000000*m/m.max())).set_cmap"
        }, 
        {
            "execution_count": 36, 
            "outputs": [
                {
                    "output_type": "execute_result", 
                    "metadata": {}, 
                    "data": {
                        "text/plain": "369"
                    }, 
                    "execution_count": 36
                }
            ], 
            "cell_type": "code", 
            "metadata": {}, 
            "source": "np.floor((-46.63 - lon_min_min_broad.value)/0.001).astype(int)"
        }, 
        {
            "execution_count": 37, 
            "outputs": [], 
            "cell_type": "code", 
            "metadata": {}, 
            "source": "def f(lat, lon):\n    a = np.floor((lat - lat_min_min_broad.value)/0.001).astype(int)\n    b = np.floor((lon - lon_min_min_broad.value)/0.001).astype(int)\n    for i in range(a - 1, nx - 1):\n        for j in range(b - 1, ny - 1):\n            x_bot, y_bot = xx[i, j], yy[i, j]\n            x_up, y_up = xx[i + 1, j + 1], yy[i + 1, j + 1]\n            if (x_bot <= lon < x_up) and (y_bot <= lat < y_up):\n                return [i, j]\nf_udf = udf(f)"
        }, 
        {
            "execution_count": 14, 
            "outputs": [], 
            "cell_type": "code", 
            "metadata": {}, 
            "source": "a, b = vagas.shapeRecords()[0].shape.points[0]"
        }, 
        {
            "execution_count": 15, 
            "outputs": [
                {
                    "output_type": "stream", 
                    "name": "stdout", 
                    "text": "-46.630608839999994 -23.550047009999997\n"
                }
            ], 
            "cell_type": "code", 
            "metadata": {}, 
            "source": "print(a, b)"
        }, 
        {
            "execution_count": 16, 
            "outputs": [
                {
                    "output_type": "execute_result", 
                    "metadata": {}, 
                    "data": {
                        "text/plain": "369.3911600000064"
                    }, 
                    "execution_count": 16
                }
            ], 
            "cell_type": "code", 
            "metadata": {}, 
            "source": "(a - (-47))/.001"
        }, 
        {
            "execution_count": 17, 
            "outputs": [
                {
                    "output_type": "execute_result", 
                    "metadata": {}, 
                    "data": {
                        "text/plain": "True"
                    }, 
                    "execution_count": 17
                }
            ], 
            "cell_type": "code", 
            "metadata": {}, 
            "source": "x[369] <= a < x[370]"
        }, 
        {
            "execution_count": 41, 
            "outputs": [], 
            "cell_type": "code", 
            "metadata": {}, 
            "source": "teste_df = df.withColumn(\"new_col\", f_udf(df['lat'], df['lon']))"
        }, 
        {
            "execution_count": 48, 
            "outputs": [
                {
                    "output_type": "execute_result", 
                    "metadata": {}, 
                    "data": {
                        "text/plain": "[449, 369]"
                    }, 
                    "execution_count": 48
                }
            ], 
            "cell_type": "code", 
            "metadata": {}, 
            "source": "eval(teste_df.toPandas().loc[0]['new_col'])"
        }, 
        {
            "execution_count": 59, 
            "outputs": [], 
            "cell_type": "code", 
            "metadata": {}, 
            "source": "for row in teste_df.toPandas().iterrows():\n    s, t = eval(row[1]['new_col'])\n    m[s, t] += 1"
        }, 
        {
            "execution_count": 67, 
            "outputs": [
                {
                    "output_type": "execute_result", 
                    "metadata": {}, 
                    "data": {
                        "text/plain": "array([ 0.,  0.,  0.,  0.,  0.,  0.,  0.,  0.,  0.,  0.,  0.,  0.,  0.,\n        0.,  0.,  0.,  0.,  0.,  0.,  0.,  0.,  0.,  0.,  0.,  0.,  0.,\n        0.,  0.,  0.,  0.,  0.,  0.,  0.,  0.,  0.,  0.,  0.,  0.,  0.,\n        0.,  0.,  0.,  0.,  0.,  0.,  0.,  0.,  0.,  0.,  0.,  0.,  0.,\n        0.,  0.,  0.,  0.,  0.,  0.,  0.,  0.,  0.,  0.,  0.,  0.,  0.,\n        0.,  0.,  0.,  0.,  0.,  0.,  0.,  0.,  0.,  0.,  0.,  0.,  0.,\n        0.,  0.,  0.,  0.,  0.,  0.,  0.,  0.,  0.,  0.,  0.,  0.,  0.,\n        0.,  0.,  0.,  0.,  0.,  0.,  0.,  0.,  0.,  0.,  0.,  0.,  0.,\n        0.,  0.,  0.,  0.,  0.,  0.,  0.,  0.,  0.,  0.,  0.,  0.,  0.,\n        0.,  0.,  0.,  0.,  0.,  0.,  0.,  0.,  0.,  0.,  0.,  0.,  0.,\n        0.,  0.,  0.,  0.,  0.,  0.,  0.,  0.,  0.,  0.,  0.,  0.,  0.,\n        0.,  0.,  0.,  0.,  0.,  0.,  0.,  0.,  0.,  0.,  0.,  0.,  0.,\n        0.,  0.,  0.,  0.,  0.,  0.,  0.,  0.,  0.,  0.,  0.,  0.,  0.,\n        0.,  0.,  0.,  0.,  0.,  0.,  0.,  0.,  0.,  0.,  0.,  0.,  0.,\n        0.,  0.,  0.,  0.,  0.,  0.,  0.,  0.,  0.,  0.,  0.,  0.,  0.,\n        0.,  0.,  0.,  0.,  0.,  0.,  0.,  0.,  0.,  0.,  0.,  0.,  0.,\n        0.,  0.,  0.,  0.,  0.,  0.,  0.,  0.,  0.,  0.,  0.,  0.,  0.,\n        0.,  0.,  0.,  0.,  0.,  0.,  0.,  0.,  0.,  0.,  0.,  0.,  0.,\n        0.,  0.,  0.,  0.,  0.,  0.,  0.,  0.,  0.,  0.,  0.,  0.,  0.,\n        0.,  0.,  0.,  0.,  0.,  0.,  0.,  0.,  0.,  0.,  0.,  0.,  0.,\n        0.,  0.,  0.,  0.,  0.,  0.,  0.,  0.,  0.,  0.,  0.,  0.,  0.,\n        0.,  0.,  0.,  0.,  0.,  0.,  0.,  0.,  0.,  0.,  0.,  0.,  0.,\n        0.,  0.,  0.,  0.,  0.,  0.,  0.,  0.,  0.,  0.,  0.,  0.,  0.,\n        0.,  0.,  0.,  0.,  0.,  0.,  0.,  0.,  0.,  0.,  0.,  0.,  0.,\n        0.,  0.,  0.,  0.,  0.,  0.,  0.,  0.,  0.,  0.,  0.,  0.,  0.,\n        0.,  0.,  0.,  0.,  0.,  0.,  0.,  0.,  0.,  0.,  0.,  0.,  0.,\n        0.,  0.,  0.,  0.,  0.,  0.,  0.,  0.,  0.,  0.,  0.,  0.,  0.,\n        0.,  0.,  0.,  0.,  0.,  1.,  1.,  0.,  0.,  0.,  0.,  0.,  0.,\n        0.,  0.,  0.,  0.,  0.,  0.,  0.,  0.,  0.,  0.,  0.,  0.,  0.,\n        0.,  0.,  0.,  0.,  0.,  0.,  0.,  0.,  0.,  0.,  0.,  0.,  0.,\n        0.,  0.,  0.,  0.,  0.,  0.,  0.,  0.,  2.,  1.,  0.,  0.,  0.,\n        0.,  0.,  0.,  0.,  0.,  0.,  0.,  0.,  0.,  0.,  0.,  0.,  0.,\n        0.,  0.,  0.,  0.,  0.,  0.,  0.,  0.,  0.,  0.,  0.,  0.,  0.,\n        0.,  0.,  0.,  0.,  0.,  0.,  0.,  0.,  0.,  0.,  0.,  0.,  0.,\n        0.,  0.,  0.,  0.,  0.,  0.,  0.,  0.,  0.,  0.,  0.,  0.,  0.,\n        0.,  0.,  0.,  0.,  0.,  0.,  0.,  0.,  0.,  0.,  0.,  0.,  0.,\n        0.,  0.,  0.,  0.,  0.,  0.,  0.,  0.,  0.,  0.,  0.,  0.,  0.,\n        0.,  0.,  0.,  0.,  0.,  0.,  0.,  0.,  0.,  0.,  0.,  0.,  0.,\n        0.,  0.,  0.,  0.,  0.,  0.,  0.,  0.,  0.,  0.,  0.,  0.,  0.,\n        0.,  0.,  0.,  0.,  0.,  0.,  0.,  0.,  0.,  0.,  0.,  0.,  0.,\n        0.,  0.,  0.,  0.,  0.,  0.,  0.,  0.,  0.,  0.,  0.,  0.,  0.,\n        0.,  0.,  0.,  0.,  0.,  0.,  0.,  0.,  0.,  0.,  0.,  0.,  0.,\n        0.,  0.,  0.,  0.,  0.,  0.,  0.,  0.,  0.,  0.,  0.,  0.,  0.,\n        0.,  0.,  0.,  0.,  0.,  0.,  0.,  0.,  0.,  0.,  0.,  0.,  0.,\n        0.,  0.,  0.,  0.,  0.,  0.,  0.,  0.,  0.,  0.,  0.,  0.,  0.,\n        0.,  0.,  0.,  0.,  0.,  0.,  0.,  0.,  0.,  0.,  0.,  0.,  0.,\n        0.,  0.,  0.,  0.,  0.,  0.,  0.,  0.,  0.,  0.,  0.,  0.,  0.,\n        0.,  0.,  0.,  0.,  0.,  0.,  0.,  0.,  0.,  0.,  0.,  0.,  0.,\n        0.,  0.,  0.,  0.,  0.,  0.,  0.,  0.,  0.,  0.,  0.,  0.,  0.,\n        0.,  0.,  0.,  0.,  0.,  0.,  0.,  0.,  0.,  0.,  0.,  0.,  0.,\n        0.,  0.,  0.,  0.,  0.,  0.,  0.,  0.,  0.,  0.,  0.,  0.,  0.,\n        0.,  0.,  0.,  0.,  0.,  0.,  0.,  0.,  0.,  0.,  0.,  0.,  0.,\n        0.,  0.,  0.,  0.,  0.,  0.,  0.,  0.,  0.,  0.,  0.,  0.,  0.,\n        0.,  0.,  0.,  0.,  0.,  0.,  0.,  0.,  0.,  0.,  0.,  0.,  0.,\n        0.,  0.,  0.,  0.,  0.,  0.,  0.,  0.,  0.,  0.,  0.,  0.,  0.,\n        0.,  0.,  0.,  0.,  0.,  0.,  0.,  0.,  0.,  0.,  0.,  0.,  0.,\n        0.,  0.,  0.,  0.,  0.,  0.,  0.,  0.,  0.,  0.,  0.,  0.,  0.,\n        0.,  0.,  0.,  0.,  0.,  0.,  0.,  0.,  0.,  0.,  0.,  0.,  0.,\n        0.,  0.,  0.,  0.,  0.,  0.,  0.,  0.,  0.,  0.,  0.,  0.,  0.,\n        0.,  0.,  0.,  0.,  0.,  0.,  0.,  0.,  0.,  0.,  0.,  0.,  0.,\n        0.,  0.,  0.,  0.,  0.,  0.,  0.,  0.,  0.,  0.,  0.,  0.,  0.,\n        0.,  0.,  0.,  0.,  0.,  0.,  0.,  0.,  0.,  0.,  0.,  0.,  0.,\n        0.,  0.,  0.,  0.,  0.,  0.,  0.,  0.,  0.,  0.,  0.,  0.,  0.,\n        0.,  0.,  0.,  0.,  0.,  0.,  0.,  0.,  0.,  0.,  0.,  0.,  0.,\n        0.,  0.,  0.,  0.,  0.,  0.,  0.,  0.,  0.,  0.,  0.,  0.,  0.,\n        0.,  0.,  0.,  0.,  0.,  0.,  0.,  0.,  0.,  0.,  0.,  0.,  0.,\n        0.,  0.,  0.,  0.,  0.,  0.,  0.,  0.,  0.,  0.,  0.,  0.,  0.,\n        0.,  0.,  0.,  0.,  0.,  0.,  0.,  0.,  0.,  0.,  0.,  0.,  0.,\n        0.,  0.,  0.,  0.,  0.,  0.,  0.,  0.,  0.,  0.,  0.,  0.,  0.,\n        0.,  0.,  0.,  0.,  0.,  0.,  0.,  0.,  0.,  0.,  0.,  0.,  0.,\n        0.,  0.,  0.,  0.,  0.,  0.,  0.,  0.,  0.,  0.,  0.,  0.,  0.,\n        0.,  0.,  0.,  0.,  0.,  0.,  0.,  0.,  0.,  0.,  0.,  0.,  0.,\n        0.,  0.,  0.,  0.,  0.,  0.,  0.,  0.,  0.,  0.,  0.,  0.,  0.,\n        0.,  0.,  0.,  0.,  0.,  0.,  0.,  0.,  0.,  0.,  0.,  0.,  0.,\n        0.,  0.,  0.,  0.,  0.,  0.,  0.,  0.,  0.,  0.,  0.,  0.,  0.,\n        0.,  0.,  0.,  0.,  0.,  0.,  0.,  0.,  0.,  0.,  0.,  0.,  0.,\n        0.,  0.,  0.,  0.,  0.,  0.,  0.,  0.,  0.,  0.,  0.,  0.])"
                    }, 
                    "execution_count": 67
                }
            ], 
            "cell_type": "code", 
            "metadata": {}, 
            "source": "m[400]"
        }, 
        {
            "execution_count": null, 
            "outputs": [], 
            "cell_type": "code", 
            "metadata": {
                "collapsed": true
            }, 
            "source": ""
        }, 
        {
            "execution_count": null, 
            "outputs": [], 
            "cell_type": "code", 
            "metadata": {
                "collapsed": true
            }, 
            "source": ""
        }
    ], 
    "nbformat": 4
}